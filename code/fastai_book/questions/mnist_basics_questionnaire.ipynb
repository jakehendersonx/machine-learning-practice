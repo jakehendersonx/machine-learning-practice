{
 "cells": [
  {
   "cell_type": "markdown",
   "metadata": {},
   "source": [
    "How is a grayscale image represented on a computer? How about a color image?\n",
    "How are the files and folders in the MNIST_SAMPLE dataset structured? Why?\n",
    "Explain how the \"pixel similarity\" approach to classifying digits works.\n",
    "What is a list comprehension? Create one now that selects odd numbers from a list and doubles them.\n",
    "What is a \"rank-3 tensor\"?\n",
    "What is the difference between tensor rank and shape? How do you get the rank from the shape?\n",
    "What are RMSE and L1 norm?\n",
    "How can you apply a calculation on thousands of numbers at once, many thousands of times faster than a Python loop?\n",
    "Create a 3×3 tensor or array containing the numbers from 1 to 9. Double it. Select the bottom-right four numbers.\n",
    "What is broadcasting?\n",
    "Are metrics generally calculated using the training set, or the validation set? Why?\n",
    "What is SGD?\n",
    "Why does SGD use mini-batches?\n",
    "What are the seven steps in SGD for machine learning?\n",
    "How do we initialize the weights in a model?\n",
    "What is \"loss\"?\n",
    "Why can't we always use a high learning rate?\n",
    "What is a \"gradient\"?\n",
    "Do you need to know how to calculate gradients yourself?\n",
    "Why can't we use accuracy as a loss function?\n",
    "Draw the sigmoid function. What is special about its shape?\n",
    "What is the difference between a loss function and a metric?\n",
    "What is the function to calculate new weights using a learning rate?\n",
    "What does the DataLoader class do?\n",
    "Write pseudocode showing the basic steps taken in each epoch for SGD.\n",
    "Create a function that, if passed two arguments [1,2,3,4] and 'abcd', returns [(1, 'a'), (2, 'b'), (3, 'c'), (4, 'd')]. What is special about that output data structure?\n",
    "What does view do in PyTorch?\n",
    "What are the \"bias\" parameters in a neural network? Why do we need them?\n",
    "What does the @ operator do in Python?\n",
    "What does the backward method do?\n",
    "Why do we have to zero the gradients?\n",
    "What information do we have to pass to Learner?\n",
    "Show Python or pseudocode for the basic steps of a training loop.\n",
    "What is \"ReLU\"? Draw a plot of it for values from -2 to +2.\n",
    "What is an \"activation function\"?\n",
    "What's the difference between F.relu and nn.ReLU?\n",
    "The universal approximation theorem shows that any function can be approximated as closely as needed using just one nonlinearity. So why do we normally use more?"
   ]
  },
  {
   "cell_type": "code",
   "execution_count": null,
   "metadata": {},
   "outputs": [],
   "source": []
  }
 ],
 "metadata": {
  "language_info": {
   "name": "python"
  }
 },
 "nbformat": 4,
 "nbformat_minor": 2
}
