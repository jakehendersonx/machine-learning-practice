{
 "cells": [
  {
   "cell_type": "code",
   "execution_count": 1,
   "metadata": {},
   "outputs": [],
   "source": [
    "import torch\n",
    "import torch.nn as nn\n",
    "\n",
    "class VAE(nn.Module):\n",
    "    def __init__(self, input_dim, latent_dim):\n",
    "        super(VAE, self).__init__()\n",
    "        self.encoder = nn.Sequential(\n",
    "            nn.Linear(input_dim, 64),\n",
    "            nn.ReLU(),\n",
    "            nn.Linear(64, 32),\n",
    "            nn.ReLU()\n",
    "        )\n",
    "\n",
    "        self.mu = nn.Linear(32, latent_dim)\n",
    "        self.logvar = nn.Linear(32, latent_dim)\n",
    "\n",
    "        self.decoder = nn.Sequential(\n",
    "            nn.Linear(latent_dim, 32),\n",
    "            nn.ReLU(),\n",
    "            nn.Linear(32, 64),\n",
    "            nn.ReLU(),\n",
    "            nn.Linear(64, input_dim)\n",
    "        )\n",
    "\n",
    "    def reparameterize(self, mu, logvar):\n",
    "        std = torch.exp(0.5*logvar)\n",
    "        eps = torch.randn_like(std)\n",
    "        return mu + eps*std\n",
    "\n",
    "    def forward(self, x):\n",
    "        x = self.encoder(x)\n",
    "        mu = self.mu(x)\n",
    "        logvar = self.logvar(x)\n",
    "        z = self.reparameterize(mu, logvar)\n",
    "        x_hat = self.decoder(z)\n",
    "        return x_hat, mu, logvar\n"
   ]
  },
  {
   "cell_type": "markdown",
   "metadata": {},
   "source": []
  },
  {
   "cell_type": "code",
   "execution_count": 2,
   "metadata": {},
   "outputs": [
    {
     "ename": "NameError",
     "evalue": "name 'model' is not defined",
     "output_type": "error",
     "traceback": [
      "\u001b[0;31m---------------------------------------------------------------------------\u001b[0m",
      "\u001b[0;31mNameError\u001b[0m                                 Traceback (most recent call last)",
      "\u001b[1;32m/Users/jakehenderson/Documents/code/projects/machine-learning-practice/code/generating_tabular_data/variational_autoencoder.ipynb Cell 2\u001b[0m line \u001b[0;36m1\n\u001b[1;32m      <a href='vscode-notebook-cell:/Users/jakehenderson/Documents/code/projects/machine-learning-practice/code/generating_tabular_data/variational_autoencoder.ipynb#W1sZmlsZQ%3D%3D?line=6'>7</a>\u001b[0m latent_samples \u001b[39m=\u001b[39m torch\u001b[39m.\u001b[39mrandn(num_samples, latent_dim)\n\u001b[1;32m      <a href='vscode-notebook-cell:/Users/jakehenderson/Documents/code/projects/machine-learning-practice/code/generating_tabular_data/variational_autoencoder.ipynb#W1sZmlsZQ%3D%3D?line=8'>9</a>\u001b[0m \u001b[39m# Decode the samples to generate new data\u001b[39;00m\n\u001b[0;32m---> <a href='vscode-notebook-cell:/Users/jakehenderson/Documents/code/projects/machine-learning-practice/code/generating_tabular_data/variational_autoencoder.ipynb#W1sZmlsZQ%3D%3D?line=9'>10</a>\u001b[0m generated_data \u001b[39m=\u001b[39m model\u001b[39m.\u001b[39mdecoder(latent_samples)\n",
      "\u001b[0;31mNameError\u001b[0m: name 'model' is not defined"
     ]
    }
   ],
   "source": [
    "# Assuming model is a trained VAE\n",
    "num_samples = 100  # Number of data samples to generate\n",
    "latent_dim = 10  # Dimension of the latent space\n",
    "\n",
    "# Generate random samples in the latent space\n",
    "with torch.no_grad():\n",
    "    latent_samples = torch.randn(num_samples, latent_dim)\n",
    "\n",
    "    # Decode the samples to generate new data\n",
    "    generated_data = model.decoder(latent_samples)\n"
   ]
  },
  {
   "cell_type": "code",
   "execution_count": null,
   "metadata": {},
   "outputs": [],
   "source": []
  }
 ],
 "metadata": {
  "kernelspec": {
   "display_name": ".venv",
   "language": "python",
   "name": "python3"
  },
  "language_info": {
   "codemirror_mode": {
    "name": "ipython",
    "version": 3
   },
   "file_extension": ".py",
   "mimetype": "text/x-python",
   "name": "python",
   "nbconvert_exporter": "python",
   "pygments_lexer": "ipython3",
   "version": "3.11.5"
  }
 },
 "nbformat": 4,
 "nbformat_minor": 2
}
