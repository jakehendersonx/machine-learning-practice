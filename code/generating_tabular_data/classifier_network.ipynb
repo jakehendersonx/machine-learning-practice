{
 "cells": [
  {
   "cell_type": "code",
   "execution_count": null,
   "metadata": {},
   "outputs": [],
   "source": [
    "import pandas as pd\n",
    "from sklearn.preprocessing import LabelEncoder\n",
    "import torch\n",
    "from torch.utils.data import DataLoader, TensorDataset"
   ]
  },
  {
   "cell_type": "code",
   "execution_count": 1,
   "metadata": {},
   "outputs": [
    {
     "ename": "NameError",
     "evalue": "name 'pd' is not defined",
     "output_type": "error",
     "traceback": [
      "\u001b[0;31m---------------------------------------------------------------------------\u001b[0m",
      "\u001b[0;31mNameError\u001b[0m                                 Traceback (most recent call last)",
      "\u001b[1;32m/Users/jakehenderson/Documents/code/projects/machine-learning-practice/code/generating_tabular_data/classifier_network.ipynb Cell 2\u001b[0m line \u001b[0;36m1\n\u001b[0;32m----> <a href='vscode-notebook-cell:/Users/jakehenderson/Documents/code/projects/machine-learning-practice/code/generating_tabular_data/classifier_network.ipynb#W1sZmlsZQ%3D%3D?line=0'>1</a>\u001b[0m df \u001b[39m=\u001b[39m pd\u001b[39m.\u001b[39mread_csv(\u001b[39m\"\u001b[39m\u001b[39m../../code/data/cleaned_pokemon.csv\u001b[39m\u001b[39m\"\u001b[39m)\n\u001b[1;32m      <a href='vscode-notebook-cell:/Users/jakehenderson/Documents/code/projects/machine-learning-practice/code/generating_tabular_data/classifier_network.ipynb#W1sZmlsZQ%3D%3D?line=2'>3</a>\u001b[0m label_encoder \u001b[39m=\u001b[39m LabelEncoder()\n\u001b[1;32m      <a href='vscode-notebook-cell:/Users/jakehenderson/Documents/code/projects/machine-learning-practice/code/generating_tabular_data/classifier_network.ipynb#W1sZmlsZQ%3D%3D?line=3'>4</a>\u001b[0m \u001b[39m'''\u001b[39;00m\n\u001b[1;32m      <a href='vscode-notebook-cell:/Users/jakehenderson/Documents/code/projects/machine-learning-practice/code/generating_tabular_data/classifier_network.ipynb#W1sZmlsZQ%3D%3D?line=4'>5</a>\u001b[0m \u001b[39mtype1 and type2 are categories and they overlap\u001b[39;00m\n\u001b[1;32m      <a href='vscode-notebook-cell:/Users/jakehenderson/Documents/code/projects/machine-learning-practice/code/generating_tabular_data/classifier_network.ipynb#W1sZmlsZQ%3D%3D?line=5'>6</a>\u001b[0m \u001b[39mand thus the encodings must line up.\u001b[39;00m\n\u001b[1;32m      <a href='vscode-notebook-cell:/Users/jakehenderson/Documents/code/projects/machine-learning-practice/code/generating_tabular_data/classifier_network.ipynb#W1sZmlsZQ%3D%3D?line=6'>7</a>\u001b[0m \u001b[39m'''\u001b[39;00m\n",
      "\u001b[0;31mNameError\u001b[0m: name 'pd' is not defined"
     ]
    }
   ],
   "source": [
    "df = pd.read_csv('../../code/data/cleaned_pokemon.csv')\n",
    "\n",
    "label_encoder = LabelEncoder()\n",
    "'''\n",
    "type1 and type2 are categories and they overlap\n",
    "and thus the encodings must line up.\n",
    "'''\n",
    "df['type1'] = label_encoder.fit_transform(df['type1'])\n",
    "df['type2'] = label_encoder.fit_transform(df['type2'])\n",
    "\n",
    "X = torch.tensor(df[['attack', 'defense', 'hp', 'sp_attack', 'sp_defense', 'speed', 'base_total']].values, dtype=torch.int64)\n",
    "y = torch.tensor(df[['type1', 'type2']].values, dtype=torch.int64)\n",
    "\n",
    "batch_size = 32  # Choose an appropriate batch size\n",
    "dataset = TensorDataset(X, y)\n",
    "dataloader = DataLoader(dataset, batch_size=batch_size, shuffle=True)"
   ]
  },
  {
   "cell_type": "code",
   "execution_count": null,
   "metadata": {},
   "outputs": [],
   "source": []
  }
 ],
 "metadata": {
  "kernelspec": {
   "display_name": ".venv",
   "language": "python",
   "name": "python3"
  },
  "language_info": {
   "codemirror_mode": {
    "name": "ipython",
    "version": 3
   },
   "file_extension": ".py",
   "mimetype": "text/x-python",
   "name": "python",
   "nbconvert_exporter": "python",
   "pygments_lexer": "ipython3",
   "version": "3.11.5"
  }
 },
 "nbformat": 4,
 "nbformat_minor": 2
}
