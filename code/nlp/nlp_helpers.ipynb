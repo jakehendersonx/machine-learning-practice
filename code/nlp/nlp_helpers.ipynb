{
 "cells": [
  {
   "cell_type": "markdown",
   "metadata": {},
   "source": [
    "functions for:\n",
    "    tokenization\n",
    "    calculating vocab\n",
    "    calculating "
   ]
  },
  {
   "cell_type": "code",
   "execution_count": 5,
   "metadata": {},
   "outputs": [],
   "source": [
    "def test_corpus_l() -> str:\n",
    "    with open(\"macbeth.txt\", \"r\") as file:\n",
    "        macbeth = file.read()\n",
    "    return macbeth\n",
    "\n",
    "def test_corpus_s() -> str:\n",
    "    with open(\"hamlet.txt\", \"r\") as file:\n",
    "        macbeth = file.read()\n",
    "    return macbeth\n"
   ]
  },
  {
   "cell_type": "code",
   "execution_count": 6,
   "metadata": {},
   "outputs": [],
   "source": [
    "from collections import Counter\n",
    "def vocab(text, split_char):\n",
    "    words = text.split(split_char)\n",
    "    counts = Counter(words)\n",
    "    return counts\n",
    "\n"
   ]
  },
  {
   "cell_type": "code",
   "execution_count": null,
   "metadata": {},
   "outputs": [],
   "source": [
    "def overly_simple_sentance_splitter(s: str) -> list:\n",
    "       # Split the string on \".\"\n",
    "    parts = s.split(\".\")\n",
    "\n",
    "    # Remove non-alphanumeric characters from each part\n",
    "    cleaned_parts = []\n",
    "    for part in parts:\n",
    "        cleaned_part = ''.join(c for c in part if c.isalnum())\n",
    "        cleaned_parts.append(cleaned_part)\n",
    "    return cleaned_parts "
   ]
  }
 ],
 "metadata": {
  "kernelspec": {
   "display_name": ".venv",
   "language": "python",
   "name": "python3"
  },
  "language_info": {
   "codemirror_mode": {
    "name": "ipython",
    "version": 3
   },
   "file_extension": ".py",
   "mimetype": "text/x-python",
   "name": "python",
   "nbconvert_exporter": "python",
   "pygments_lexer": "ipython3",
   "version": "3.11.7"
  }
 },
 "nbformat": 4,
 "nbformat_minor": 2
}
