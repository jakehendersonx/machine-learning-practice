{
 "cells": [
  {
   "cell_type": "code",
   "execution_count": 2,
   "metadata": {},
   "outputs": [
    {
     "data": {
      "text/plain": [
       "[50504,\n",
       " 45397,\n",
       " 54616,\n",
       " 49464,\n",
       " 50836,\n",
       " 32,\n",
       " 128075,\n",
       " 32,\n",
       " 40,\n",
       " 104,\n",
       " 101,\n",
       " 108,\n",
       " 108,\n",
       " 111,\n",
       " 32,\n",
       " 105,\n",
       " 110,\n",
       " 32,\n",
       " 75,\n",
       " 111,\n",
       " 114,\n",
       " 101,\n",
       " 97,\n",
       " 110,\n",
       " 33,\n",
       " 41]"
      ]
     },
     "execution_count": 2,
     "metadata": {},
     "output_type": "execute_result"
    }
   ],
   "source": [
    "hello = \"안녕하세요 👋 (hello in Korean!)\"\n",
    "# ord converts char to unicode int, char does the opposite\n",
    "[ord(_) for _ in hello] "
   ]
  },
  {
   "cell_type": "code",
   "execution_count": 3,
   "metadata": {},
   "outputs": [
    {
     "data": {
      "text/plain": [
       "[236,\n",
       " 149,\n",
       " 136,\n",
       " 235,\n",
       " 133,\n",
       " 149,\n",
       " 237,\n",
       " 149,\n",
       " 152,\n",
       " 236,\n",
       " 132,\n",
       " 184,\n",
       " 236,\n",
       " 154,\n",
       " 148,\n",
       " 32,\n",
       " 240,\n",
       " 159,\n",
       " 145,\n",
       " 139,\n",
       " 32,\n",
       " 40,\n",
       " 104,\n",
       " 101,\n",
       " 108,\n",
       " 108,\n",
       " 111,\n",
       " 32,\n",
       " 105,\n",
       " 110,\n",
       " 32,\n",
       " 75,\n",
       " 111,\n",
       " 114,\n",
       " 101,\n",
       " 97,\n",
       " 110,\n",
       " 33,\n",
       " 41]"
      ]
     },
     "execution_count": 3,
     "metadata": {},
     "output_type": "execute_result"
    }
   ],
   "source": [
    "def utf8bytes(s: str) -> list:\n",
    "    return list(s.encode(\"utf-8\"))\n",
    "utf8bytes(hello)"
   ]
  },
  {
   "cell_type": "code",
   "execution_count": 4,
   "metadata": {},
   "outputs": [],
   "source": [
    "dot_char = \"·\""
   ]
  },
  {
   "cell_type": "code",
   "execution_count": 5,
   "metadata": {},
   "outputs": [
    {
     "name": "stdout",
     "output_type": "stream",
     "text": [
      "1606\n",
      "THE TRAGEDY OF MACBETH\n",
      "\n",
      "\n",
      "by William Shakespeare\n",
      "\n",
      "\n",
      "\n",
      "Dramatis Personae\n",
      "\n",
      "  DUNCAN, King of Scotla\n",
      "char len of macbeth:116139\n"
     ]
    }
   ],
   "source": [
    "with open(\"macbeth.txt\", \"r\") as file:\n",
    "    macbeth = file.read()\n",
    "\n",
    "print(macbeth[:100]) # print first 100 chars\n",
    "print(\"char len of macbeth:\" + str(len(macbeth))) # print macbeth len"
   ]
  },
  {
   "cell_type": "code",
   "execution_count": 6,
   "metadata": {},
   "outputs": [
    {
     "data": {
      "text/plain": [
       "[239,\n",
       " 187,\n",
       " 191,\n",
       " 49,\n",
       " 54,\n",
       " 48,\n",
       " 54,\n",
       " 10,\n",
       " 84,\n",
       " 72,\n",
       " 69,\n",
       " 32,\n",
       " 84,\n",
       " 82,\n",
       " 65,\n",
       " 71,\n",
       " 69,\n",
       " 68,\n",
       " 89,\n",
       " 32,\n",
       " 79,\n",
       " 70,\n",
       " 32,\n",
       " 77,\n",
       " 65,\n",
       " 67,\n",
       " 66,\n",
       " 69,\n",
       " 84,\n",
       " 72,\n",
       " 10,\n",
       " 10,\n",
       " 10,\n",
       " 98,\n",
       " 121,\n",
       " 32,\n",
       " 87,\n",
       " 105,\n",
       " 108,\n",
       " 108,\n",
       " 105,\n",
       " 97,\n",
       " 109,\n",
       " 32,\n",
       " 83,\n",
       " 104,\n",
       " 97,\n",
       " 107,\n",
       " 101,\n",
       " 115,\n",
       " 112,\n",
       " 101,\n",
       " 97,\n",
       " 114,\n",
       " 101,\n",
       " 10,\n",
       " 10,\n",
       " 10,\n",
       " 10,\n",
       " 68,\n",
       " 114,\n",
       " 97,\n",
       " 109,\n",
       " 97,\n",
       " 116,\n",
       " 105,\n",
       " 115,\n",
       " 32,\n",
       " 80,\n",
       " 101,\n",
       " 114,\n",
       " 115,\n",
       " 111,\n",
       " 110,\n",
       " 97,\n",
       " 101,\n",
       " 10,\n",
       " 10,\n",
       " 32,\n",
       " 32,\n",
       " 68,\n",
       " 85,\n",
       " 78,\n",
       " 67,\n",
       " 65,\n",
       " 78,\n",
       " 44,\n",
       " 32,\n",
       " 75,\n",
       " 105,\n",
       " 110,\n",
       " 103,\n",
       " 32,\n",
       " 111,\n",
       " 102,\n",
       " 32,\n",
       " 83,\n",
       " 99,\n",
       " 111,\n",
       " 116,\n",
       " 108,\n",
       " 97]"
      ]
     },
     "execution_count": 6,
     "metadata": {},
     "output_type": "execute_result"
    }
   ],
   "source": [
    "def utf8tokens(s: str) -> map:\n",
    "    # encode to raw bytes\n",
    "    tokens = s.encode(\"utf-8\")\n",
    "    return list(map(int, tokens))\n",
    "\n",
    "utf8tokens(macbeth[:100])"
   ]
  },
  {
   "cell_type": "code",
   "execution_count": 7,
   "metadata": {},
   "outputs": [
    {
     "name": "stdout",
     "output_type": "stream",
     "text": [
      "[89, 111, 117, 114, 32, 115, 116, 114, 105, 110, 103, 32, 104, 101, 114, 101]\n"
     ]
    }
   ],
   "source": [
    "def barrier(text: str, tokens: list):\n",
    "    print(\"=====================================\")\n",
    "\n",
    "text = \"Your string here\"\n",
    "utf8_integers = utf8tokens(text)\n",
    "print(utf8_integers)\n",
    "\n"
   ]
  },
  {
   "cell_type": "code",
   "execution_count": 16,
   "metadata": {},
   "outputs": [
    {
     "name": "stdout",
     "output_type": "stream",
     "text": [
      "16\n",
      "16\n"
     ]
    }
   ],
   "source": [
    "# print both formatted\n",
    "print(len(text))\n",
    "print(len(utf8_integers))"
   ]
  },
  {
   "cell_type": "code",
   "execution_count": 11,
   "metadata": {},
   "outputs": [],
   "source": [
    "#loop through a list of int, two at a time, and make a dictionary where a tuple of the two ints is a key and the count of that key is the value\n",
    "from collections import defaultdict\n",
    "# getting counts of utf8 pairs for byte poair encoding alg\n",
    "def pair_counts(nums: list):\n",
    "    counts = defaultdict(int)\n",
    "    for i in range(len(nums) - 1):\n",
    "        pair = (nums[i], nums[i + 1])\n",
    "        counts[pair] += 1\n",
    "    return counts"
   ]
  },
  {
   "cell_type": "code",
   "execution_count": 13,
   "metadata": {},
   "outputs": [
    {
     "name": "stdout",
     "output_type": "stream",
     "text": [
      "defaultdict(<class 'int'>, {(89, 111): 1, (111, 117): 1, (117, 114): 1, (114, 32): 1, (32, 115): 1, (115, 116): 1, (116, 114): 1, (114, 105): 1, (105, 110): 1, (110, 103): 1, (103, 32): 1, (32, 104): 1, (104, 101): 1, (101, 114): 1, (114, 101): 1})\n"
     ]
    }
   ],
   "source": [
    "print(pair_counts(utf8_integers))"
   ]
  },
  {
   "cell_type": "code",
   "execution_count": null,
   "metadata": {},
   "outputs": [],
   "source": [
    "def byte_pair_encoding_algorithm(text: str):\n",
    "    utf8_integers = utf8tokens(text)\n",
    "    counts = pair_counts(utf8_integers)\n",
    "    low, high = min\n",
    "    while True:\n",
    "        most_common_pair = max(counts, key=counts.get)\n",
    "        if counts[most_common_pair] <= 1:\n",
    "            break\n",
    "        ''' \n",
    "         if the current tuple is the most common pair, replace is with the next int that is not present\n",
    "        ''' \n",
    "        text = text.replace(bytes(most_common_pair).decode(\"utf-8\"), dot_char)\n",
    "        utf8_integers = utf8tokens(text)\n",
    "        counts = pair_counts(utf8_integers)\n",
    "    return text"
   ]
  }
 ],
 "metadata": {
  "kernelspec": {
   "display_name": ".venv",
   "language": "python",
   "name": "python3"
  },
  "language_info": {
   "codemirror_mode": {
    "name": "ipython",
    "version": 3
   },
   "file_extension": ".py",
   "mimetype": "text/x-python",
   "name": "python",
   "nbconvert_exporter": "python",
   "pygments_lexer": "ipython3",
   "version": "3.11.7"
  }
 },
 "nbformat": 4,
 "nbformat_minor": 2
}
