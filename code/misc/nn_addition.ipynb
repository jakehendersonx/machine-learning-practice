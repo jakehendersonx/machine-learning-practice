{
 "cells": [
  {
   "cell_type": "code",
   "execution_count": 1,
   "metadata": {},
   "outputs": [],
   "source": [
    "import torch\n",
    "import torch.nn as nn\n",
    "import torch.optim as optim"
   ]
  },
  {
   "cell_type": "code",
   "execution_count": 4,
   "metadata": {},
   "outputs": [],
   "source": [
    "class AdditionNet(nn.Module):\n",
    "    def __init__(self):\n",
    "        super(AdditionNet, self).__init__()\n",
    "        self.fc1 = nn.Linear(2, 10)  # Input layer with 2 neurons, hidden layer with 10 neurons\n",
    "        self.fc2 = nn.Linear(10, 1)  # Hidden layer with 10 neurons, output layer with 1 neuron\n",
    "\n",
    "    def forward(self, x):\n",
    "        x = torch.relu(self.fc1(x))  # Apply ReLU activation to the hidden layer\n",
    "        x = self.fc2(x)  # Output layer\n",
    "        return x"
   ]
  },
  {
   "cell_type": "code",
   "execution_count": 6,
   "metadata": {},
   "outputs": [],
   "source": [
    "# Create an instance of the model\n",
    "model = AdditionNet()\n",
    "\n",
    "# Define the loss function and optimizer\n",
    "criterion = nn.MSELoss()  # Mean Squared Error loss\n",
    "optimizer = optim.SGD(model.parameters(), lr=0.01)  # Stochastic Gradient Descent optimizer\n",
    "\n",
    "# Generate some random training data\n",
    "num_samples = 1000\n",
    "x_train = torch.randn(num_samples, 2)  # Random input numbers\n",
    "y_train = torch.sum(x_train, dim=1, keepdim=True)  # Actual sum of input numbers"
   ]
  },
  {
   "cell_type": "code",
   "execution_count": 7,
   "metadata": {},
   "outputs": [
    {
     "name": "stdout",
     "output_type": "stream",
     "text": [
      "Epoch [10/100], Loss: 1.3052\n",
      "Epoch [20/100], Loss: 1.0209\n",
      "Epoch [30/100], Loss: 0.8517\n",
      "Epoch [40/100], Loss: 0.7226\n",
      "Epoch [50/100], Loss: 0.6170\n",
      "Epoch [60/100], Loss: 0.5308\n",
      "Epoch [70/100], Loss: 0.4614\n",
      "Epoch [80/100], Loss: 0.4061\n",
      "Epoch [90/100], Loss: 0.3625\n",
      "Epoch [100/100], Loss: 0.3281\n",
      "Predicted sums: tensor([3.8827, 7.7432, 4.4920], grad_fn=<SqueezeBackward0>)\n",
      "Actual sums: tensor([3.8000, 7.9000, 4.7000])\n"
     ]
    }
   ],
   "source": [
    "# Training loop\n",
    "num_epochs = 100\n",
    "for epoch in range(num_epochs):\n",
    "    # Forward pass\n",
    "    outputs = model(x_train)\n",
    "    loss = criterion(outputs, y_train)\n",
    "\n",
    "    # Backward pass and optimization\n",
    "    optimizer.zero_grad()\n",
    "    loss.backward()\n",
    "    optimizer.step()\n",
    "\n",
    "    # Print the loss every 10 epochs\n",
    "    if (epoch + 1) % 10 == 0:\n",
    "        print(f\"Epoch [{epoch+1}/{num_epochs}], Loss: {loss.item():.4f}\")\n",
    "\n",
    "# Test the model\n",
    "x_test = torch.tensor([[1.5, 2.3], [4.2, 3.7], [2.8, 1.9]])  # Test input numbers\n",
    "outputs = model(x_test)\n",
    "print(\"Predicted sums:\", outputs.squeeze())\n",
    "print(\"Actual sums:\", torch.sum(x_test, dim=1))"
   ]
  },
  {
   "cell_type": "code",
   "execution_count": 9,
   "metadata": {},
   "outputs": [
    {
     "name": "stdout",
     "output_type": "stream",
     "text": [
      "Mean Absolute Error: 0.3007\n",
      "Accuracy (within 0.10 tolerance): 57.00%\n"
     ]
    }
   ],
   "source": [
    "# Generate random test data\n",
    "num_test_samples = 100\n",
    "x_test = torch.randn(num_test_samples, 2)  # Random test input numbers\n",
    "y_test = torch.sum(x_test, dim=1)  # Actual sum of test input numbers\n",
    "\n",
    "# Evaluate the model on test data\n",
    "with torch.no_grad():\n",
    "    outputs = model(x_test)\n",
    "    predicted = outputs.squeeze()\n",
    "\n",
    "    # Calculate absolute error\n",
    "    absolute_error = torch.abs(predicted - y_test)\n",
    "\n",
    "    # Calculate mean absolute error\n",
    "    mae = torch.mean(absolute_error)\n",
    "\n",
    "    # Calculate accuracy within a tolerance\n",
    "    tolerance = 0.1\n",
    "    accuracy = (absolute_error < tolerance).float().mean()\n",
    "\n",
    "# Print the accuracy stats\n",
    "print(f\"Mean Absolute Error: {mae.item():.4f}\")\n",
    "print(f\"Accuracy (within {tolerance:.2f} tolerance): {accuracy.item():.2%}\")"
   ]
  },
  {
   "cell_type": "code",
   "execution_count": null,
   "metadata": {},
   "outputs": [],
   "source": []
  }
 ],
 "metadata": {
  "kernelspec": {
   "display_name": ".venv",
   "language": "python",
   "name": "python3"
  },
  "language_info": {
   "codemirror_mode": {
    "name": "ipython",
    "version": 3
   },
   "file_extension": ".py",
   "mimetype": "text/x-python",
   "name": "python",
   "nbconvert_exporter": "python",
   "pygments_lexer": "ipython3",
   "version": "3.11.7"
  }
 },
 "nbformat": 4,
 "nbformat_minor": 2
}
